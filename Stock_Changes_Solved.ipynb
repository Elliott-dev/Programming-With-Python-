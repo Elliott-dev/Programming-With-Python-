{
 "cells": [
  {
   "cell_type": "code",
   "execution_count": 252,
   "metadata": {},
   "outputs": [],
   "source": [
    "# Import the 'os' and 'csv' libraries\n",
    "import os \n",
    "import csv\n",
    "import numpy as np"
   ]
  },
  {
   "cell_type": "code",
   "execution_count": 253,
   "metadata": {},
   "outputs": [],
   "source": [
    "filepath = os.path.join('..', 'Resources', 'S&P_500_5yr_stock_data.csv')"
   ]
  },
  {
   "cell_type": "code",
   "execution_count": 255,
   "metadata": {},
   "outputs": [
    {
     "name": "stdout",
     "output_type": "stream",
     "text": [
      "The day with the greatest daily percent change was 03/13/2020 on that day the stock changed 5.49%.\n",
      "The high of that day was 2711.33, the low of that day was 2492.37.\n",
      "The volume for that day was 5003636035.\n"
     ]
    }
   ],
   "source": [
    "# Open a connection to the comma-delimited csv file \n",
    "with open (filepath) as csvfile:\n",
    "    reader = csv.DictReader(csvfile)\n",
    "    # Create variables to save our output row as printrow and greatest daily percent change as max_pct\n",
    "    printrow = []\n",
    "    percent_change_added_to_dict = []\n",
    "    all_percent_change = []\n",
    "    max_pct = 0\n",
    "    \n",
    "   # Iterate through each row\n",
    "   # For each row, calculate the daily percent change\n",
    "    for row in reader:\n",
    "        percent_change = (float(row['Close'])-float(row['Open']))/float(row['Open'])*100\n",
    "        row.update({'stock_change':percent_change})\n",
    "        percent_change_added_to_dict.append(row)\n",
    "        all_percent_change.append(percent_change)\n",
    "        max_pct = max(all_percent_change)\n",
    "    \n",
    "   # Check if the absolute daily percent change is greater than the previous daily percent change.\n",
    "   # If true, store new greatest daily percent change and printrow \n",
    "    for each_row in percent_change_added_to_dict:\n",
    "        if max_pct <= each_row['stock_change']:\n",
    "            printrow.append(each_row)\n",
    "     \n",
    "    date = printrow[0]['Date']\n",
    "    open_price = printrow[0]['Open']\n",
    "    high_price = printrow[0]['High']\n",
    "    low_price = printrow[0]['Low']\n",
    "    close_price = printrow[0]['Close']\n",
    "    volume = printrow[0]['Volume']\n",
    "    stock_change = round(printrow[0]['stock_change'],2)\n",
    "    \n",
    "    # Print out the date, stock high, stock low, volume and percent change for the day with the greatest percent change\n",
    "    \n",
    "    print(\"\"\"The day with the greatest daily percent change was {} on that day the stock changed {}%.\\nThe high of that day was {}, the low of that day was {}.\\nThe volume for that day was {}.\"\"\".format(date, stock_change, high_price, low_price, volume))"
   ]
  }
 ],
 "metadata": {
  "kernelspec": {
   "display_name": "Python 3",
   "language": "python",
   "name": "python3"
  },
  "language_info": {
   "codemirror_mode": {
    "name": "ipython",
    "version": 3
   },
   "file_extension": ".py",
   "mimetype": "text/x-python",
   "name": "python",
   "nbconvert_exporter": "python",
   "pygments_lexer": "ipython3",
   "version": "3.8.8"
  }
 },
 "nbformat": 4,
 "nbformat_minor": 4
}
